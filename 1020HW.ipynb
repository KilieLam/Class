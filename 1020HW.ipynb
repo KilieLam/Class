{
  "nbformat": 4,
  "nbformat_minor": 0,
  "metadata": {
    "colab": {
      "provenance": []
    },
    "kernelspec": {
      "name": "python3",
      "display_name": "Python 3"
    },
    "language_info": {
      "name": "python"
    }
  },
  "cells": [
    {
      "cell_type": "code",
      "execution_count": 4,
      "metadata": {
        "colab": {
          "base_uri": "https://localhost:8080/"
        },
        "id": "jy5EMbQm8a1q",
        "outputId": "fdeba9b9-1484-4b90-98b2-95b2fe649525"
      },
      "outputs": [
        {
          "output_type": "stream",
          "name": "stdout",
          "text": [
            "input range3\n",
            "1*1 = 1\n",
            "1*2 = 2\n",
            "1*3 = 3\n",
            "2*1 = 2\n",
            "2*2 = 4\n",
            "2*3 = 6\n",
            "3*1 = 3\n",
            "3*2 = 6\n",
            "3*3 = 9\n"
          ]
        }
      ],
      "source": [
        "number = int(input(\"input range\"))\n",
        "for i in range(1, number + 1):\n",
        " for j in range(1, number + 1):\n",
        "  product = i*j\n",
        "  print(f\"{i}*{j} = {i * j}\")\n",
        "\n",
        ""
      ]
    },
    {
      "cell_type": "code",
      "source": [
        "import random\n",
        "# produce a random number and guest what is it!\"\"\n",
        "target_number = random.randint(1,100)\n",
        "\n",
        "print(\"Welcome to number guessing game!\")\n",
        "ans = 0\n",
        "while ans == 0:\n",
        "  guess = int((input(\"Your guess is?\")))\n",
        "  if guess > target_number :\n",
        "    print(\"Too big!\")\n",
        "  elif guess < target_number:\n",
        "    print(\"Too small!\")\n",
        "  else:\n",
        "    print(f\"Correct! The answer is {target_number}\")\n",
        "    print(\"The End!\")\n",
        "    ans = 1"
      ],
      "metadata": {
        "colab": {
          "base_uri": "https://localhost:8080/"
        },
        "id": "JYVtFHgmDCL_",
        "outputId": "914e20d5-9a04-4cdc-bc74-b708867ac856"
      },
      "execution_count": 27,
      "outputs": [
        {
          "output_type": "stream",
          "name": "stdout",
          "text": [
            "Welcome to number guessing game!\n",
            "Your guess is?35\n",
            "Too big!\n",
            "Your guess is?21\n",
            "Too big!\n",
            "Your guess is?7\n",
            "Too big!\n",
            "Your guess is?1\n",
            "Too small!\n",
            "Your guess is?2\n",
            "Too small!\n",
            "Your guess is?3\n",
            "Too small!\n",
            "Your guess is?4\n",
            "Correct! The answer is 4\n",
            "The End!\n"
          ]
        }
      ]
    }
  ]
}